{
 "cells": [
  {
   "cell_type": "code",
   "execution_count": 8,
   "id": "a1ce4d74",
   "metadata": {},
   "outputs": [],
   "source": [
    "def prob_union_three(S, A, B, C):\n",
    "    S, A, B, C = set(S), set(A), set(B), set(C)\n",
    "\n",
    "    P_A = len(A) / len(S)\n",
    "    P_B = len(B) / len(S)\n",
    "    P_C = len(C) / len(S)\n",
    "\n",
    "    P_AB = len(A & B) / len(S)\n",
    "    P_BC = len(B & C) / len(S)\n",
    "    P_CA = len(C & A) / len(S)\n",
    "\n",
    "    P_ABC = len(A & B & C) / len(S)\n",
    "\n",
    "    P_union = P_A + P_B + P_C - P_AB - P_BC - P_CA + P_ABC\n",
    "\n",
    "    print(\"Set A:\", A)\n",
    "    print(\"Set B:\", B)\n",
    "    print(\"Set C:\", C)\n",
    "    print(\"P(A):\", P_A)\n",
    "    print(\"P(B):\", P_B)\n",
    "    print(\"P(C):\", P_C)\n",
    "    print(\"P(A ∩ B):\", P_AB)\n",
    "    print(\"P(B ∩ C):\", P_BC)\n",
    "    print(\"P(C ∩ A):\", P_CA)\n",
    "    print(\"P(A ∩ B ∩ C):\", P_ABC)\n",
    "    print(\"P(A ∪ B ∪ C):\", P_union)\n",
    "\n",
    "    return P_union\n",
    "\n",
    "\n"
   ]
  },
  {
   "cell_type": "code",
   "execution_count": 9,
   "id": "7b33dc66",
   "metadata": {},
   "outputs": [
    {
     "name": "stdout",
     "output_type": "stream",
     "text": [
      "Set A: {1, 2, 3}\n",
      "Set B: {3, 4, 5}\n",
      "Set C: {5, 6}\n",
      "P(A): 0.5\n",
      "P(B): 0.5\n",
      "P(C): 0.3333333333333333\n",
      "P(A ∩ B): 0.16666666666666666\n",
      "P(B ∩ C): 0.16666666666666666\n",
      "P(C ∩ A): 0.0\n",
      "P(A ∩ B ∩ C): 0.0\n",
      "P(A ∪ B ∪ C): 0.9999999999999999\n"
     ]
    },
    {
     "data": {
      "text/plain": [
       "0.9999999999999999"
      ]
     },
     "execution_count": 9,
     "metadata": {},
     "output_type": "execute_result"
    }
   ],
   "source": [
    "S = {1, 2, 3, 4, 5, 6}\n",
    "A = {1, 2, 3}\n",
    "B = {3, 4, 5}\n",
    "C = {5, 6}\n",
    "\n",
    "prob_union_three(S, A, B, C)\n"
   ]
  },
  {
   "cell_type": "code",
   "execution_count": 10,
   "id": "7f90f58f",
   "metadata": {},
   "outputs": [
    {
     "name": "stdout",
     "output_type": "stream",
     "text": [
      "{1, 2, 3, 4, 5, 6}\n",
      "{1, 2, 3}\n",
      "0.5\n",
      "0.5\n",
      "1.0\n"
     ]
    }
   ],
   "source": [
    "def verify_complement_law(S,A):\n",
    "    S,A=set(S),set(A)\n",
    "    A_comp=S-A\n",
    "    P_A=len(A)/len(S)\n",
    "    P_Ac=len(A_comp)/len(S)\n",
    "    print(S)\n",
    "    print(A)\n",
    "    print(P_A)\n",
    "    print(P_Ac)\n",
    "    print(P_A+P_Ac)\n",
    "S = {1, 2, 3, 4, 5, 6}\n",
    "A = {1, 2, 3}\n",
    "verify_complement_law(S,A)"
   ]
  },
  {
   "cell_type": "code",
   "execution_count": 12,
   "id": "19245d6e",
   "metadata": {},
   "outputs": [
    {
     "name": "stdout",
     "output_type": "stream",
     "text": [
      "None\n"
     ]
    }
   ],
   "source": [
    "def intersection_probability(S,A,B):\n",
    "    S,A,B=set(S),set(A),set(B)\n",
    "    P_A=len(A)/len(S)\n",
    "    P_B=len(B)/len(S)\n",
    "    P_A_given_B=len(A & B)/len(B) if len(B)>0 else 0\n",
    "    P_B_given_A=len(A & B)/len(A) if len(A)>0 else 0\n",
    "S = {1, 2, 3, 4, 5, 6}\n",
    "A = {1, 2, 3}\n",
    "B = {3, 4, 5}\n",
    "print(intersection_probability(S,A,B))"
   ]
  },
  {
   "cell_type": "code",
   "execution_count": 13,
   "id": "b1819d6f",
   "metadata": {},
   "outputs": [
    {
     "name": "stdout",
     "output_type": "stream",
     "text": [
      "{1, 2, 3, 4, 5, 6}\n",
      "{1, 2, 3}\n",
      "{3, 4, 5}\n",
      "{3}\n",
      "0.5\n",
      "0.3333333333333333\n",
      "0.16666666666666666\n",
      "None\n"
     ]
    }
   ],
   "source": [
    "def intersection_prob_B_given_A(S,A,B):\n",
    "    S,A,B=set(S),set(A),set(B)\n",
    "    P_A=len(A)/len(S)\n",
    "    P_B_given_A=len(A & B)/len(A) if len(A)>0 else 0\n",
    "    P_A_inter_B=P_B_given_A * P_A\n",
    "    print(S)\n",
    "    print(A)\n",
    "    print(B)\n",
    "    print(A & B)\n",
    "    print(P_A)\n",
    "    print(P_B_given_A)\n",
    "    print(P_A_inter_B)\n",
    "S = {1, 2, 3, 4, 5, 6}\n",
    "A = {1, 2, 3}\n",
    "B = {3, 4, 5}\n",
    "print(intersection_prob_B_given_A(S,A,B))"
   ]
  },
  {
   "cell_type": "code",
   "execution_count": null,
   "id": "610ff907",
   "metadata": {},
   "outputs": [],
   "source": []
  }
 ],
 "metadata": {
  "kernelspec": {
   "display_name": "Python 3",
   "language": "python",
   "name": "python3"
  },
  "language_info": {
   "codemirror_mode": {
    "name": "ipython",
    "version": 3
   },
   "file_extension": ".py",
   "mimetype": "text/x-python",
   "name": "python",
   "nbconvert_exporter": "python",
   "pygments_lexer": "ipython3",
   "version": "3.13.3"
  }
 },
 "nbformat": 4,
 "nbformat_minor": 5
}
