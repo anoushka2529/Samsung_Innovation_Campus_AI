{
 "cells": [
  {
   "cell_type": "code",
   "execution_count": 1,
   "id": "b7fef69c",
   "metadata": {},
   "outputs": [],
   "source": [
    "import numpy as np\n",
    "import pandas as pd\n",
    "data={'A':[1,2,3,4,5],\n",
    "      'B':[5,4,3,2,1],\n",
    "      'C':[1,3,5,7,20]\n",
    "      }\n",
    "df=pd.DataFrame(data)"
   ]
  },
  {
   "cell_type": "code",
   "execution_count": 2,
   "id": "5194c9b7",
   "metadata": {},
   "outputs": [
    {
     "name": "stdout",
     "output_type": "stream",
     "text": [
      "A    15\n",
      "B    15\n",
      "C    36\n",
      "dtype: int64\n",
      "0     7\n",
      "1     9\n",
      "2    11\n",
      "3    13\n",
      "4    26\n",
      "dtype: int64\n"
     ]
    }
   ],
   "source": [
    "print(df.sum(axis=0))\n",
    "print(df.sum(axis=1))"
   ]
  },
  {
   "cell_type": "code",
   "execution_count": 3,
   "id": "bb2555fe",
   "metadata": {},
   "outputs": [
    {
     "name": "stdout",
     "output_type": "stream",
     "text": [
      "A    3.0\n",
      "B    3.0\n",
      "C    7.2\n",
      "dtype: float64\n"
     ]
    }
   ],
   "source": [
    "print(df.mean(axis=0,skipna=False))"
   ]
  },
  {
   "cell_type": "code",
   "execution_count": 4,
   "id": "45d51e97",
   "metadata": {},
   "outputs": [
    {
     "name": "stdout",
     "output_type": "stream",
     "text": [
      "              A         B          C\n",
      "count  5.000000  5.000000   5.000000\n",
      "mean   3.000000  3.000000   7.200000\n",
      "std    1.581139  1.581139   7.496666\n",
      "min    1.000000  1.000000   1.000000\n",
      "25%    2.000000  2.000000   3.000000\n",
      "50%    3.000000  3.000000   5.000000\n",
      "75%    4.000000  4.000000   7.000000\n",
      "max    5.000000  5.000000  20.000000\n"
     ]
    }
   ],
   "source": [
    "print(df.describe())"
   ]
  },
  {
   "cell_type": "code",
   "execution_count": 5,
   "id": "a1ccde1f",
   "metadata": {},
   "outputs": [
    {
     "name": "stdout",
     "output_type": "stream",
     "text": [
      "A    5\n",
      "B    5\n",
      "C    5\n",
      "dtype: int64\n"
     ]
    }
   ],
   "source": [
    "print(df.count(axis=0))"
   ]
  },
  {
   "cell_type": "code",
   "execution_count": 6,
   "id": "18dd5bf8",
   "metadata": {},
   "outputs": [
    {
     "name": "stdout",
     "output_type": "stream",
     "text": [
      "-0.9999999999999999\n"
     ]
    }
   ],
   "source": [
    "print(df.A.corr(df.B))"
   ]
  },
  {
   "cell_type": "code",
   "execution_count": 7,
   "id": "b7c0b50d",
   "metadata": {},
   "outputs": [
    {
     "name": "stdout",
     "output_type": "stream",
     "text": [
      "<bound method DataFrame.corr of    A  B   C\n",
      "0  1  5   1\n",
      "1  2  4   3\n",
      "2  3  3   5\n",
      "3  4  2   7\n",
      "4  5  1  20>\n"
     ]
    }
   ],
   "source": [
    "print(df.corr)"
   ]
  },
  {
   "cell_type": "code",
   "execution_count": 8,
   "id": "e7065178",
   "metadata": {},
   "outputs": [
    {
     "name": "stdout",
     "output_type": "stream",
     "text": [
      "A    1.000000\n",
      "B   -1.000000\n",
      "C    0.885832\n",
      "dtype: float64\n"
     ]
    }
   ],
   "source": [
    "print(df.corrwith(df.A))"
   ]
  },
  {
   "cell_type": "code",
   "execution_count": 9,
   "id": "cda275dd",
   "metadata": {},
   "outputs": [],
   "source": [
    "data={\n",
    "    \"Name\":[\"Alice\",\"Bob\",\"Charlie\",None],\n",
    "    \"Age\":[25,None,30,22],\n",
    "    \"Score\":[85,90,None,None],\n",
    "    \"Gender\":['F','M','M','F']\n",
    "}\n",
    "df=pd.DataFrame(data)"
   ]
  },
  {
   "cell_type": "code",
   "execution_count": 10,
   "id": "6d6e5a0b",
   "metadata": {},
   "outputs": [
    {
     "name": "stdout",
     "output_type": "stream",
     "text": [
      "    Name    Age  Score  Gender\n",
      "0  False  False  False   False\n",
      "1  False   True  False   False\n",
      "2  False  False   True   False\n",
      "3   True  False   True   False\n"
     ]
    }
   ],
   "source": [
    "print(df.isnull())"
   ]
  },
  {
   "cell_type": "code",
   "execution_count": 12,
   "id": "9db9c490",
   "metadata": {},
   "outputs": [
    {
     "name": "stdout",
     "output_type": "stream",
     "text": [
      "Name      1\n",
      "Age       1\n",
      "Score     2\n",
      "Gender    0\n",
      "dtype: int64\n"
     ]
    }
   ],
   "source": [
    "print(df.isnull().sum(axis=0))"
   ]
  },
  {
   "cell_type": "code",
   "execution_count": 13,
   "id": "b43edb50",
   "metadata": {},
   "outputs": [
    {
     "name": "stdout",
     "output_type": "stream",
     "text": [
      "Name      0.25\n",
      "Age       0.25\n",
      "Score     0.50\n",
      "Gender    0.00\n",
      "dtype: float64\n"
     ]
    }
   ],
   "source": [
    "print(df.isnull().mean(axis=0))"
   ]
  },
  {
   "cell_type": "code",
   "execution_count": 14,
   "id": "0f789c31",
   "metadata": {},
   "outputs": [
    {
     "name": "stdout",
     "output_type": "stream",
     "text": [
      "    Name   Age  Score Gender\n",
      "0  Alice  25.0   85.0      F\n"
     ]
    }
   ],
   "source": [
    "print(df.dropna(axis=0))"
   ]
  },
  {
   "cell_type": "code",
   "execution_count": 15,
   "id": "e66bb6f1",
   "metadata": {},
   "outputs": [
    {
     "name": "stdout",
     "output_type": "stream",
     "text": [
      "  Gender\n",
      "0      F\n",
      "1      M\n",
      "2      M\n",
      "3      F\n"
     ]
    }
   ],
   "source": [
    "print(df.dropna(axis=1))"
   ]
  },
  {
   "cell_type": "code",
   "execution_count": null,
   "id": "861c7610",
   "metadata": {},
   "outputs": [
    {
     "name": "stdout",
     "output_type": "stream",
     "text": [
      "      Name   Age  Score Gender\n",
      "0    Alice  25.0   85.0      F\n",
      "1      Bob   NaN   90.0      M\n",
      "2  Charlie  30.0    NaN      M\n"
     ]
    }
   ],
   "source": [
    "print(df.dropna(axis=0,thresh=3))"
   ]
  }
 ],
 "metadata": {
  "kernelspec": {
   "display_name": "Python 3",
   "language": "python",
   "name": "python3"
  },
  "language_info": {
   "codemirror_mode": {
    "name": "ipython",
    "version": 3
   },
   "file_extension": ".py",
   "mimetype": "text/x-python",
   "name": "python",
   "nbconvert_exporter": "python",
   "pygments_lexer": "ipython3",
   "version": "3.13.3"
  }
 },
 "nbformat": 4,
 "nbformat_minor": 5
}
