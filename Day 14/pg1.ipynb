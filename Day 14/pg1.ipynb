{
 "cells": [
  {
   "cell_type": "code",
   "execution_count": 3,
   "id": "e4f0e0d3",
   "metadata": {},
   "outputs": [
    {
     "name": "stdout",
     "output_type": "stream",
     "text": [
      "     mpg  cylinders  displacement  horsepower  weight  acceleration  \\\n",
      "0   18.0          8         307.0       130.0    3504          12.0   \n",
      "1   15.0          8         350.0       165.0    3693          11.5   \n",
      "2   18.0          8         318.0       150.0    3436          11.0   \n",
      "3   16.0          8         304.0       150.0    3433          12.0   \n",
      "4   17.0          8         302.0       140.0    3449          10.5   \n",
      "5   15.0          8         429.0       198.0    4341          10.0   \n",
      "6   14.0          8         454.0       220.0    4354           9.0   \n",
      "7   14.0          8         440.0       215.0    4312           8.5   \n",
      "8   14.0          8         455.0       225.0    4425          10.0   \n",
      "9   15.0          8         390.0       190.0    3850           8.5   \n",
      "10  15.0          8         383.0       170.0    3563          10.0   \n",
      "11  14.0          8         340.0       160.0    3609           8.0   \n",
      "12  15.0          8         400.0       150.0    3761           9.5   \n",
      "13  14.0          8         455.0       225.0    3086          10.0   \n",
      "14  24.0          4         113.0        95.0    2372          15.0   \n",
      "15  22.0          6         198.0        95.0    2833          15.5   \n",
      "16  18.0          6         199.0        97.0    2774          15.5   \n",
      "17  21.0          6         200.0        85.0    2587          16.0   \n",
      "18  27.0          4          97.0        88.0    2130          14.5   \n",
      "19  26.0          4          97.0        46.0    1835          20.5   \n",
      "\n",
      "    model year  origin                      car name  \n",
      "0           70       1     chevrolet chevelle malibu  \n",
      "1           70       1             buick skylark 320  \n",
      "2           70       1            plymouth satellite  \n",
      "3           70       1                 amc rebel sst  \n",
      "4           70       1                   ford torino  \n",
      "5           70       1              ford galaxie 500  \n",
      "6           70       1              chevrolet impala  \n",
      "7           70       1             plymouth fury iii  \n",
      "8           70       1              pontiac catalina  \n",
      "9           70       1            amc ambassador dpl  \n",
      "10          70       1           dodge challenger se  \n",
      "11          70       1            plymouth 'cuda 340  \n",
      "12          70       1         chevrolet monte carlo  \n",
      "13          70       1       buick estate wagon (sw)  \n",
      "14          70       3         toyota corona mark ii  \n",
      "15          70       1               plymouth duster  \n",
      "16          70       1                    amc hornet  \n",
      "17          70       1                 ford maverick  \n",
      "18          70       3                  datsun pl510  \n",
      "19          70       2  volkswagen 1131 deluxe sedan  \n"
     ]
    },
    {
     "name": "stderr",
     "output_type": "stream",
     "text": [
      "C:\\Users\\anous\\AppData\\Local\\Temp\\ipykernel_5048\\3619982423.py:4: FutureWarning: A value is trying to be set on a copy of a DataFrame or Series through chained assignment using an inplace method.\n",
      "The behavior will change in pandas 3.0. This inplace method will never work because the intermediate object on which we are setting values always behaves as a copy.\n",
      "\n",
      "For example, when doing 'df[col].method(value, inplace=True)', try using 'df.method({col: value}, inplace=True)' or df[col] = df[col].method(value) instead, to perform the operation inplace on the original object.\n",
      "\n",
      "\n",
      "  df['horsepower'].replace('?',np.nan,inplace=True)\n"
     ]
    }
   ],
   "source": [
    "import pandas as pd\n",
    "import numpy as np\n",
    "df=pd.read_csv('./auto-mpg.csv')\n",
    "df['horsepower'].replace('?',np.nan,inplace=True)\n",
    "df.dropna(subset=['horsepower'],axis=0,inplace=True)\n",
    "df['horsepower']=df['horsepower'].astype('float')\n",
    "print(df.head(20))"
   ]
  },
  {
   "cell_type": "code",
   "execution_count": 4,
   "id": "a17c530a",
   "metadata": {},
   "outputs": [
    {
     "name": "stdout",
     "output_type": "stream",
     "text": [
      "[ 46.         107.33333333 168.66666667 230.        ]\n"
     ]
    }
   ],
   "source": [
    "count,bin_dividers=np.histogram(df['horsepower'],bins=3)\n",
    "print(bin_dividers)"
   ]
  },
  {
   "cell_type": "code",
   "execution_count": 6,
   "id": "933a2306",
   "metadata": {},
   "outputs": [
    {
     "name": "stdout",
     "output_type": "stream",
     "text": [
      "    horsepower         hp_bin\n",
      "0        130.0  Normal output\n",
      "1        165.0  Normal output\n",
      "2        150.0  Normal output\n",
      "3        150.0  Normal output\n",
      "4        140.0  Normal output\n",
      "5        198.0    High output\n",
      "6        220.0    High output\n",
      "7        215.0    High output\n",
      "8        225.0    High output\n",
      "9        190.0    High output\n",
      "10       170.0    High output\n",
      "11       160.0  Normal output\n",
      "12       150.0  Normal output\n",
      "13       225.0    High output\n",
      "14        95.0     Low output\n"
     ]
    }
   ],
   "source": [
    "bin_names=['Low output','Normal output','High output']\n",
    "df['hp_bin']=pd.cut(x=df['horsepower'],\n",
    "                    bins=bin_dividers,\n",
    "                    labels=bin_names,\n",
    "                    include_lowest=True)\n",
    "print(df[['horsepower','hp_bin']].head(15))"
   ]
  },
  {
   "cell_type": "code",
   "execution_count": 7,
   "id": "44a535b4",
   "metadata": {},
   "outputs": [
    {
     "name": "stdout",
     "output_type": "stream",
     "text": [
      "    Low output  Normal output  High output\n",
      "0        False           True        False\n",
      "1        False           True        False\n",
      "2        False           True        False\n",
      "3        False           True        False\n",
      "4        False           True        False\n",
      "5        False          False         True\n",
      "6        False          False         True\n",
      "7        False          False         True\n",
      "8        False          False         True\n",
      "9        False          False         True\n",
      "10       False          False         True\n",
      "11       False           True        False\n",
      "12       False           True        False\n",
      "13       False          False         True\n",
      "14        True          False        False\n"
     ]
    }
   ],
   "source": [
    "df['hp_bin']=pd.cut(x=df['horsepower'],\n",
    "                    bins=bin_dividers,\n",
    "                    labels=bin_names,\n",
    "                    include_lowest=True)\n",
    "horsepower_dummies=pd.get_dummies(df['hp_bin'])\n",
    "print(horsepower_dummies.head(15))"
   ]
  },
  {
   "cell_type": "code",
   "execution_count": 8,
   "id": "64c3adfc",
   "metadata": {},
   "outputs": [
    {
     "name": "stdout",
     "output_type": "stream",
     "text": [
      "[1613.  3376.5 5140. ]\n"
     ]
    }
   ],
   "source": [
    "count,bin_dividers=np.histogram(df['weight'],bins=2)\n",
    "print(bin_dividers)"
   ]
  },
  {
   "cell_type": "code",
   "execution_count": null,
   "id": "fe1aead6",
   "metadata": {},
   "outputs": [
    {
     "name": "stdout",
     "output_type": "stream",
     "text": [
      "    Light  Heavy\n",
      "0   False   True\n",
      "1   False   True\n",
      "2   False   True\n",
      "3   False   True\n",
      "4   False   True\n",
      "5   False   True\n",
      "6   False   True\n",
      "7   False   True\n",
      "8   False   True\n",
      "9   False   True\n",
      "10  False   True\n",
      "11  False   True\n",
      "12  False   True\n",
      "13   True  False\n",
      "14   True  False\n"
     ]
    }
   ],
   "source": [
    "bin_names = [\"Light\", \"Heavy\"]   \n",
    "\n",
    "df['hp_binn'] = pd.cut(x=df['weight'],\n",
    "                       bins=2,\n",
    "                       labels=bin_names,\n",
    "                       include_lowest=True)\n",
    "\n",
    "horsepower_dummies = pd.get_dummies(df['hp_binn'])\n",
    "print(horsepower_dummies.head(15))\n",
    "\n"
   ]
  },
  {
   "cell_type": "code",
   "execution_count": null,
   "id": "a0c316cb",
   "metadata": {},
   "outputs": [
    {
     "name": "stdout",
     "output_type": "stream",
     "text": [
      "count    392.000000\n",
      "mean     104.469388\n",
      "std       38.491160\n",
      "min       46.000000\n",
      "25%       75.000000\n",
      "50%       93.500000\n",
      "75%      126.000000\n",
      "max      230.000000\n",
      "Name: horsepower, dtype: float64\n",
      "\n",
      "\n",
      "0    0.565217\n",
      "1    0.717391\n",
      "2    0.652174\n",
      "3    0.652174\n",
      "4    0.608696\n",
      "Name: horsepower, dtype: float64\n",
      "\n",
      "\n",
      "count    392.000000\n",
      "mean       0.454215\n",
      "std        0.167353\n",
      "min        0.200000\n",
      "25%        0.326087\n",
      "50%        0.406522\n",
      "75%        0.547826\n",
      "max        1.000000\n",
      "Name: horsepower, dtype: float64\n"
     ]
    }
   ],
   "source": [
    "#normalization: max absolute scaling ie divide all values by the max value\n",
    "print(df.horsepower.describe())\n",
    "print(\"\\n\")\n",
    "df.horsepower = df.horsepower / abs(df.horsepower.max())\n",
    "print(df.horsepower.head())\n",
    "print(\"\\n\")\n",
    "print(df.horsepower.describe())"
   ]
  },
  {
   "cell_type": "code",
   "execution_count": 14,
   "id": "c12467bc",
   "metadata": {},
   "outputs": [
    {
     "name": "stdout",
     "output_type": "stream",
     "text": [
      "count    392.000000\n",
      "mean       0.454215\n",
      "std        0.167353\n",
      "min        0.200000\n",
      "25%        0.326087\n",
      "50%        0.406522\n",
      "75%        0.547826\n",
      "max        1.000000\n",
      "Name: horsepower, dtype: float64\n",
      "\n",
      "\n",
      "0    0.456522\n",
      "1    0.646739\n",
      "2    0.565217\n",
      "3    0.565217\n",
      "4    0.510870\n",
      "Name: horsepower, dtype: float64\n",
      "\n",
      "\n",
      "count    392.000000\n",
      "mean       0.317768\n",
      "std        0.209191\n",
      "min        0.000000\n",
      "25%        0.157609\n",
      "50%        0.258152\n",
      "75%        0.434783\n",
      "max        1.000000\n",
      "Name: horsepower, dtype: float64\n"
     ]
    }
   ],
   "source": [
    "#minmax normalization\n",
    "print(df.horsepower.describe())\n",
    "print('\\n')\n",
    "min_x=df.horsepower - df.horsepower.min()\n",
    "min_max=df.horsepower.max()-df.horsepower.min()\n",
    "df.horsepower=min_x/min_max\n",
    "print(df.horsepower.head())\n",
    "print(\"\\n\")\n",
    "print(df.horsepower.describe())"
   ]
  },
  {
   "cell_type": "code",
   "execution_count": null,
   "id": "5e315f22",
   "metadata": {},
   "outputs": [],
   "source": []
  },
  {
   "cell_type": "code",
   "execution_count": null,
   "id": "b2050149",
   "metadata": {},
   "outputs": [],
   "source": []
  },
  {
   "cell_type": "code",
   "execution_count": null,
   "id": "d1d67244",
   "metadata": {},
   "outputs": [],
   "source": []
  }
 ],
 "metadata": {
  "kernelspec": {
   "display_name": "Python 3",
   "language": "python",
   "name": "python3"
  },
  "language_info": {
   "codemirror_mode": {
    "name": "ipython",
    "version": 3
   },
   "file_extension": ".py",
   "mimetype": "text/x-python",
   "name": "python",
   "nbconvert_exporter": "python",
   "pygments_lexer": "ipython3",
   "version": "3.13.3"
  }
 },
 "nbformat": 4,
 "nbformat_minor": 5
}
