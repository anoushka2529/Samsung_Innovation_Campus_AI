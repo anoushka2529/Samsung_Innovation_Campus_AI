{
 "cells": [
  {
   "cell_type": "code",
   "execution_count": null,
   "id": "be3dd83c",
   "metadata": {},
   "outputs": [
    {
     "name": "stdout",
     "output_type": "stream",
     "text": [
      "<class 'pandas.core.frame.DataFrame'>\n",
      "Index: 3 entries, A to C\n",
      "Data columns (total 5 columns):\n",
      " #   Column      Non-Null Count  Dtype \n",
      "---  ------      --------------  ----- \n",
      " 0   Name        3 non-null      object\n",
      " 1   Marks       3 non-null      int64 \n",
      " 2   Department  3 non-null      object\n",
      " 3   City        3 non-null      object\n",
      " 4   ID          3 non-null      int64 \n",
      "dtypes: int64(2), object(3)\n",
      "memory usage: 144.0+ bytes\n",
      "None\n",
      "   Name  Marks Department       City   ID\n",
      "A   Anu     80        CSE  Bangalore  101\n",
      "B  Binu     90        ISE      Delhi  102\n",
      "C  Cinu     85       AIML     Ranchi  103\n",
      "A    80\n",
      "C    85\n",
      "B    90\n",
      "Name: Marks, dtype: int64\n",
      "   Name  Marks Department       City   ID\n",
      "C  Cinu     85       AIML     Ranchi  103\n",
      "A   Anu     80        CSE  Bangalore  101\n",
      "B  Binu     90        ISE      Delhi  102\n",
      "['CSE' 'ISE' 'AIML']\n",
      "3\n",
      "City\n",
      "Bangalore    1\n",
      "Delhi        1\n",
      "Ranchi       1\n",
      "Name: count, dtype: int64\n",
      "Department\n",
      "CSE     1\n",
      "ISE     1\n",
      "AIML    1\n",
      "Name: count, dtype: int64\n",
      "   Name  Score  Dept       City   ID\n",
      "A   Anu     80   CSE  Bangalore  101\n",
      "B  Binu     90   ISE      Delhi  102\n",
      "C  Cinu     85  AIML     Ranchi  103\n",
      "Name           Anu\n",
      "Score           80\n",
      "Dept           CSE\n",
      "City     Bangalore\n",
      "ID             101\n",
      "Name: A, dtype: object\n",
      "A     Anu\n",
      "C    Cinu\n",
      "Name: Name, dtype: object\n",
      "   Name  Score\n",
      "B  Binu     90\n"
     ]
    }
   ],
   "source": [
    "#Create a pandas series of student names\n",
    "#create a series of marks with custom index as student names\n",
    "#Display the DataFrame with only Name and Marks\n",
    "#Display numpy array of Marks\n",
    "#Display all values of the DataFrame\n",
    "#Get DataFrame info\n",
    "#Check info of departmnet DataFrame\n",
    "#Display first 3 rows\n",
    "#Display first 4 rows of departments\n",
    "#Display last 2 rows\n",
    "#Display last 1 row of departments \n",
    "\n",
    "import numpy as np\n",
    "import pandas as pd\n",
    "\n",
    "import pandas as pd\n",
    "import numpy as np\n",
    "\n",
    "s1 = pd.Series({'A':'Anu','B':'Binu','C':'Cinu'})\n",
    "s2 = pd.Series({'A':80,'B':90,'C':85})\n",
    "s  = pd.Series({'A':'CSE','B':'ISE','C':'AIML'})\n",
    "ss = pd.Series({'A':'Bangalore','B':'Delhi','C':'Ranchi'})\n",
    "ss1= pd.Series({'A':101,'B':102,'C':103})\n",
    "\n",
    "s3 = pd.DataFrame({'Name':s1,'Marks':s2,'Department':s,'City':ss,'ID':ss1})\n",
    "\n",
    "print(s3.info())\n",
    "print(s3.head(3))\n",
    "print(s3['Marks'].sort_values(ascending=True))\n",
    "print(s3.sort_values(by=['Department','Marks'], ascending=True))\n",
    "print(s3['Department'].unique())\n",
    "print(s3['Department'].nunique())\n",
    "print(s3['City'].value_counts())\n",
    "print(s3['Department'].value_counts())\n",
    "\n",
    "# Rename\n",
    "s3.rename(columns={'Marks':'Score','Department':'Dept'}, inplace=True)\n",
    "print(s3)\n",
    "\n",
    "print(s3.loc['A'])                     \n",
    "print(s3.loc[['A','C'], 'Name'])       # Names of A and C\n",
    "\n",
    "# Names and marks of students from Delhi\n",
    "print(s3.loc[s3['City']=='Delhi', ['Name','Score']])"
   ]
  },
  {
   "cell_type": "code",
   "execution_count": 2,
   "id": "f9ee0fba",
   "metadata": {},
   "outputs": [
    {
     "name": "stdout",
     "output_type": "stream",
     "text": [
      "Name       Cinu\n",
      "Score        85\n",
      "Dept       AIML\n",
      "City     Ranchi\n",
      "ID          103\n",
      "Name: C, dtype: object\n"
     ]
    }
   ],
   "source": [
    "print(s3.iloc[-1])"
   ]
  },
  {
   "cell_type": "code",
   "execution_count": 3,
   "id": "87f92cae",
   "metadata": {},
   "outputs": [],
   "source": [
    "import pandas as pd\n",
    "\n",
    "s3 = pd.DataFrame({\n",
    "    'Name': ['Anu', 'Binu', 'Cinu'],\n",
    "    'Marks': [80, 90, 85],\n",
    "    'Department': ['CSE', 'ISE', 'AIML'],\n",
    "    'City': ['Bangalore', 'Delhi', 'Ranchi'],\n",
    "    'ID': [101, 102, 103]\n",
    "})\n",
    "\n",
    "\n",
    "departments = pd.DataFrame({\n",
    "    'Department': ['CSE', 'ISE', 'AIML'],\n",
    "    'HOD': ['Dr. Rao', 'Dr. Mehta', 'Dr. Singh'],\n",
    "    'Building': ['Block A', 'Block B', 'Block C']\n",
    "})\n",
    "\n",
    "\n"
   ]
  },
  {
   "cell_type": "code",
   "execution_count": 4,
   "id": "18fee8e6",
   "metadata": {},
   "outputs": [
    {
     "name": "stdout",
     "output_type": "stream",
     "text": [
      "   Name  Marks Department       City   ID        HOD Building\n",
      "0   Anu     80        CSE  Bangalore  101    Dr. Rao  Block A\n",
      "1  Binu     90        ISE      Delhi  102  Dr. Mehta  Block B\n",
      "2  Cinu     85       AIML     Ranchi  103  Dr. Singh  Block C\n"
     ]
    }
   ],
   "source": [
    "merged_df = pd.merge(s3, departments, on='Department', how='inner')\n",
    "print(merged_df)"
   ]
  },
  {
   "cell_type": "code",
   "execution_count": 5,
   "id": "adc08673",
   "metadata": {},
   "outputs": [
    {
     "name": "stdout",
     "output_type": "stream",
     "text": [
      "   Name  Marks Department       City   ID        HOD Building\n",
      "0   Anu     80        CSE  Bangalore  101    Dr. Rao  Block A\n",
      "1  Binu     90        ISE      Delhi  102  Dr. Mehta  Block B\n",
      "2  Cinu     85       AIML     Ranchi  103  Dr. Singh  Block C\n"
     ]
    }
   ],
   "source": [
    "merged_df = pd.merge(s3, departments, on='Department', how='left')\n",
    "print(merged_df)"
   ]
  },
  {
   "cell_type": "code",
   "execution_count": 6,
   "id": "a3521479",
   "metadata": {},
   "outputs": [
    {
     "name": "stdout",
     "output_type": "stream",
     "text": [
      "Department\n",
      "AIML    85.0\n",
      "CSE     80.0\n",
      "ISE     90.0\n",
      "Name: Marks, dtype: float64\n"
     ]
    }
   ],
   "source": [
    "print(s3.groupby('Department')['Marks'].mean())"
   ]
  },
  {
   "cell_type": "code",
   "execution_count": 7,
   "id": "7f627b84",
   "metadata": {},
   "outputs": [
    {
     "name": "stdout",
     "output_type": "stream",
     "text": [
      "<bound method IndexOpsMixin.value_counts of 0    Bangalore\n",
      "1        Delhi\n",
      "2       Ranchi\n",
      "Name: City, dtype: object>\n"
     ]
    }
   ],
   "source": [
    "print(s3['City'].value_counts)"
   ]
  },
  {
   "cell_type": "code",
   "execution_count": 9,
   "id": "1fb16fcc",
   "metadata": {},
   "outputs": [
    {
     "name": "stdout",
     "output_type": "stream",
     "text": [
      "            Marks\n",
      "Department       \n",
      "AIML         85.0\n",
      "CSE          80.0\n",
      "ISE          90.0\n"
     ]
    },
    {
     "name": "stderr",
     "output_type": "stream",
     "text": [
      "C:\\Users\\anous\\AppData\\Local\\Temp\\ipykernel_11716\\2782677677.py:2: FutureWarning: The provided callable <function mean at 0x00000220CB560360> is currently using DataFrameGroupBy.mean. In a future version of pandas, the provided callable will be used directly. To keep current behavior pass the string \"mean\" instead.\n",
      "  print(s3.pivot_table(values='Marks', index='Department', aggfunc=np.mean))\n"
     ]
    }
   ],
   "source": [
    "#df.pivot_table(values=None,index=None,columns=None,aggfunc='mean',fill_values=None,dropna=True)\n",
    "print(s3.pivot_table(values='Marks', index='Department', aggfunc=np.mean))"
   ]
  },
  {
   "cell_type": "code",
   "execution_count": 17,
   "id": "5ae5a831",
   "metadata": {},
   "outputs": [
    {
     "name": "stdout",
     "output_type": "stream",
     "text": [
      "City        Bangalore  Delhi  Ranchi\n",
      "Department                          \n",
      "AIML                0      0       1\n",
      "CSE                 1      0       0\n",
      "ISE                 0      1       0\n"
     ]
    }
   ],
   "source": [
    "pivot = s3.pivot_table(\n",
    "    values='Name',        \n",
    "    index='Department',   \n",
    "    columns='City',       \n",
    "    aggfunc='count',      \n",
    "    fill_value=0          \n",
    ")\n",
    "print(pivot)"
   ]
  },
  {
   "cell_type": "code",
   "execution_count": null,
   "id": "2a2a65d1",
   "metadata": {},
   "outputs": [
    {
     "name": "stdout",
     "output_type": "stream",
     "text": [
      "1\n"
     ]
    }
   ],
   "source": [
    "\n",
    "cse_students = s3[s3['Department'] == 'CSE']\n",
    "print(cse_students['Name'].count())\n"
   ]
  },
  {
   "cell_type": "code",
   "execution_count": null,
   "id": "fa2d0725",
   "metadata": {},
   "outputs": [],
   "source": []
  }
 ],
 "metadata": {
  "kernelspec": {
   "display_name": "Python 3",
   "language": "python",
   "name": "python3"
  },
  "language_info": {
   "codemirror_mode": {
    "name": "ipython",
    "version": 3
   },
   "file_extension": ".py",
   "mimetype": "text/x-python",
   "name": "python",
   "nbconvert_exporter": "python",
   "pygments_lexer": "ipython3",
   "version": "3.13.3"
  }
 },
 "nbformat": 4,
 "nbformat_minor": 5
}
